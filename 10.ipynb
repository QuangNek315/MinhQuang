{
 "cells": [
  {
   "cell_type": "code",
   "execution_count": 1,
   "id": "ee402a62-faa3-4c57-9f5e-73e15d34af18",
   "metadata": {},
   "outputs": [],
   "source": [
    "# import thư viện \n",
    "from PIL import Image\n",
    "import matplotlib.pyplot as plt"
   ]
  },
  {
   "cell_type": "code",
   "execution_count": 2,
   "id": "aa2c96ae-24da-4da8-8ee5-9040191c04c8",
   "metadata": {},
   "outputs": [
    {
     "name": "stdout",
     "output_type": "stream",
     "text": [
      "[(38.35714285714284, 103.80735930735929), (45.19696969696968, 62.08441558441557), (67.76839826839824, 44.98484848484847), (110.85930735930734, 42.590909090909065), (109.14935064935062, 60.7164502164502)]\n"
     ]
    }
   ],
   "source": [
    "# Đường dẫn ảnh\n",
    "my_path = 'D:/DangDucMinhQuang/AnhDep/01.jpg'\n",
    "# Đọc ảnh\n",
    "im = Image.open(my_path)\n",
    "# Chuyển đổi backend\n",
    "plt.switch_backend('tkagg')\n",
    "# Hiển thị ảnh\n",
    "plt.imshow(im)\n",
    "plt.title('Click on the image to select points')\n",
    "# Sử dụng hàm ginput để chọn điểm trên ảnh\n",
    "points = plt.ginput(5)\n",
    "print(points)\n",
    "# Hiển thị\n",
    "plt.show()"
   ]
  },
  {
   "cell_type": "code",
   "execution_count": 3,
   "id": "f2c22f0e-4c79-4c57-bd2c-516c638259b7",
   "metadata": {},
   "outputs": [],
   "source": [
    "# Vẽ lại các điểm đã chọn bằng dấu * màu đỏ\n",
    "plt.close()\n",
    "# Vẽ lại\n",
    "plt.imshow(im)\n",
    "for point in points:\n",
    "    x, y = point\n",
    "    plt.plot(x,y, 'r*')\n",
    "plt.show()"
   ]
  },
  {
   "cell_type": "code",
   "execution_count": null,
   "id": "6936adac-1dcb-468c-99c0-6361ec9279f7",
   "metadata": {},
   "outputs": [],
   "source": []
  }
 ],
 "metadata": {
  "kernelspec": {
   "display_name": "Python 3 (ipykernel)",
   "language": "python",
   "name": "python3"
  },
  "language_info": {
   "codemirror_mode": {
    "name": "ipython",
    "version": 3
   },
   "file_extension": ".py",
   "mimetype": "text/x-python",
   "name": "python",
   "nbconvert_exporter": "python",
   "pygments_lexer": "ipython3",
   "version": "3.12.4"
  }
 },
 "nbformat": 4,
 "nbformat_minor": 5
}
