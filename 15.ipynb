{
 "cells": [
  {
   "cell_type": "code",
   "execution_count": 1,
   "id": "edb526b4-183c-41ac-9d0b-b5ee93d2f190",
   "metadata": {},
   "outputs": [
    {
     "name": "stdout",
     "output_type": "stream",
     "text": [
      "Requirement already satisfied: scipy in d:\\dangducminhquang\\anacoda3\\lib\\site-packages (1.13.1)\n",
      "Requirement already satisfied: numpy<2.3,>=1.22.4 in d:\\dangducminhquang\\anacoda3\\lib\\site-packages (from scipy) (1.26.4)\n"
     ]
    }
   ],
   "source": [
    "!pip install scipy"
   ]
  },
  {
   "cell_type": "code",
   "execution_count": 2,
   "id": "2888a89c-5fe8-48ac-85d2-8621bc12da39",
   "metadata": {},
   "outputs": [
    {
     "name": "stdout",
     "output_type": "stream",
     "text": [
      "Kết quả:  [ 3. -1.]\n"
     ]
    }
   ],
   "source": [
    "from scipy import linalg\n",
    "import numpy as np\n",
    "# Định nghĩa hệ phương trình \n",
    "A = np.array([[2, 1], [3,2]])\n",
    "b = np.array([5,7])\n",
    "\n",
    "# Giải hệ phương trình tuyến tính\n",
    "x = linalg.solve(A, b)\n",
    "print(\"Kết quả: \", x)"
   ]
  },
  {
   "cell_type": "code",
   "execution_count": 3,
   "id": "3f1fe915-3df8-498b-a885-b70da5715931",
   "metadata": {},
   "outputs": [
    {
     "name": "stdout",
     "output_type": "stream",
     "text": [
      "Tích phân f(x) từ 0 đén 1:  (0.33333333333333337, 3.700743415417189e-15)\n"
     ]
    }
   ],
   "source": [
    "# Tính tích phân của một hàm số\n",
    "from scipy import integrate\n",
    "\n",
    "# Định nghĩa f(x)=x^2\n",
    "def my_function(x):\n",
    "    return x**2\n",
    "\n",
    "# Tính tích phân của f(x) từ 0 đến 1\n",
    "integral = integrate.quad(my_function, 0, 1);\n",
    "print(\"Tích phân f(x) từ 0 đén 1: \", integral)\n",
    "    "
   ]
  },
  {
   "cell_type": "code",
   "execution_count": 6,
   "id": "f842a22c-d731-4de7-a803-5dd0e567c914",
   "metadata": {},
   "outputs": [
    {
     "name": "stdout",
     "output_type": "stream",
     "text": [
      "Giá trị riêng:  [3.73205081+0.j 0.26794919+0.j]\n",
      "Vector riêng:  [3.73205081+0.j 0.26794919+0.j]\n"
     ]
    }
   ],
   "source": [
    "# !pip install scipy\n",
    "from scipy import linalg\n",
    "import numpy as np\n",
    "\n",
    "# Tính giá trị riêng và vector riêng của một ma trận:\n",
    "A = np.array([[2,1], [3,2]])\n",
    "\n",
    "# Tính giá trị riêng và vector riêng của ma trận\n",
    "evals, evecs = linalg.eig(A)\n",
    "\n",
    "print(\"Giá trị riêng: \", evals)\n",
    "print(\"Vector riêng: \", evals)"
   ]
  },
  {
   "cell_type": "code",
   "execution_count": null,
   "id": "a0fc9cba-283c-4101-bbac-e8d9ed72c2ab",
   "metadata": {},
   "outputs": [],
   "source": []
  }
 ],
 "metadata": {
  "kernelspec": {
   "display_name": "Python 3 (ipykernel)",
   "language": "python",
   "name": "python3"
  },
  "language_info": {
   "codemirror_mode": {
    "name": "ipython",
    "version": 3
   },
   "file_extension": ".py",
   "mimetype": "text/x-python",
   "name": "python",
   "nbconvert_exporter": "python",
   "pygments_lexer": "ipython3",
   "version": "3.12.4"
  }
 },
 "nbformat": 4,
 "nbformat_minor": 5
}
